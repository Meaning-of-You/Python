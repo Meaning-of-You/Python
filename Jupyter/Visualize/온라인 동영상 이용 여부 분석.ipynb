{
 "cells": [
  {
   "cell_type": "markdown",
   "id": "7c6f4dbf",
   "metadata": {},
   "source": [
    "### 필요 라이브러리 임포트"
   ]
  },
  {
   "cell_type": "code",
   "execution_count": 2,
   "id": "b6ef7525",
   "metadata": {},
   "outputs": [],
   "source": [
    "import numpy as np\n",
    "import pandas as pd\n",
    "import matplotlib as mp\n",
    "import matplotlib.pyplot as plt\n",
    "import seaborn as sns"
   ]
  },
  {
   "cell_type": "code",
   "execution_count": 3,
   "id": "a6ee727b",
   "metadata": {},
   "outputs": [],
   "source": [
    "fm = mp.font_manager.FontManager()         # 한글화\n",
    "plt.rcParams['font.family'] = 'Malgun Gothic'\n",
    "mp.rcParams['axes.unicode_minus'] = False # '-' 에러 방지"
   ]
  },
  {
   "cell_type": "markdown",
   "id": "ca679389",
   "metadata": {},
   "source": [
    "### 원본 데이터 불러오기"
   ]
  },
  {
   "cell_type": "code",
   "execution_count": 4,
   "id": "9f81266b",
   "metadata": {},
   "outputs": [
    {
     "data": {
      "text/html": [
       "<div>\n",
       "<style scoped>\n",
       "    .dataframe tbody tr th:only-of-type {\n",
       "        vertical-align: middle;\n",
       "    }\n",
       "\n",
       "    .dataframe tbody tr th {\n",
       "        vertical-align: top;\n",
       "    }\n",
       "\n",
       "    .dataframe thead th {\n",
       "        text-align: right;\n",
       "    }\n",
       "</style>\n",
       "<table border=\"1\" class=\"dataframe\">\n",
       "  <thead>\n",
       "    <tr style=\"text-align: right;\">\n",
       "      <th></th>\n",
       "      <th>ID</th>\n",
       "      <th>DM1</th>\n",
       "      <th>DM2</th>\n",
       "      <th>DM3</th>\n",
       "      <th>DM4</th>\n",
       "      <th>KK1</th>\n",
       "      <th>KK2</th>\n",
       "      <th>WT</th>\n",
       "      <th>Q1A_1</th>\n",
       "      <th>Q1A_2</th>\n",
       "      <th>...</th>\n",
       "      <th>Q20_2</th>\n",
       "      <th>Q20_3</th>\n",
       "      <th>Q20_4</th>\n",
       "      <th>Q20_5</th>\n",
       "      <th>Q20_6</th>\n",
       "      <th>Q20_7</th>\n",
       "      <th>Q20_8</th>\n",
       "      <th>Q20_9</th>\n",
       "      <th>Q20_10</th>\n",
       "      <th>Q21</th>\n",
       "    </tr>\n",
       "  </thead>\n",
       "  <tbody>\n",
       "    <tr>\n",
       "      <th>0</th>\n",
       "      <td>1</td>\n",
       "      <td>3</td>\n",
       "      <td>1</td>\n",
       "      <td>NaN</td>\n",
       "      <td>1</td>\n",
       "      <td>3</td>\n",
       "      <td>NaN</td>\n",
       "      <td>1581.361297</td>\n",
       "      <td>1</td>\n",
       "      <td>1</td>\n",
       "      <td>...</td>\n",
       "      <td>3.0</td>\n",
       "      <td>3.0</td>\n",
       "      <td>2.0</td>\n",
       "      <td>3.0</td>\n",
       "      <td>3.0</td>\n",
       "      <td>2.0</td>\n",
       "      <td>3.0</td>\n",
       "      <td>3.0</td>\n",
       "      <td>3.0</td>\n",
       "      <td>4.0</td>\n",
       "    </tr>\n",
       "    <tr>\n",
       "      <th>1</th>\n",
       "      <td>2</td>\n",
       "      <td>3</td>\n",
       "      <td>2</td>\n",
       "      <td>NaN</td>\n",
       "      <td>1</td>\n",
       "      <td>3</td>\n",
       "      <td>NaN</td>\n",
       "      <td>1506.828478</td>\n",
       "      <td>1</td>\n",
       "      <td>1</td>\n",
       "      <td>...</td>\n",
       "      <td>3.0</td>\n",
       "      <td>3.0</td>\n",
       "      <td>2.0</td>\n",
       "      <td>3.0</td>\n",
       "      <td>2.0</td>\n",
       "      <td>3.0</td>\n",
       "      <td>3.0</td>\n",
       "      <td>2.0</td>\n",
       "      <td>2.0</td>\n",
       "      <td>1.0</td>\n",
       "    </tr>\n",
       "    <tr>\n",
       "      <th>2</th>\n",
       "      <td>3</td>\n",
       "      <td>2</td>\n",
       "      <td>1</td>\n",
       "      <td>3.0</td>\n",
       "      <td>1</td>\n",
       "      <td>2</td>\n",
       "      <td>2.0</td>\n",
       "      <td>1380.620423</td>\n",
       "      <td>1</td>\n",
       "      <td>1</td>\n",
       "      <td>...</td>\n",
       "      <td>NaN</td>\n",
       "      <td>NaN</td>\n",
       "      <td>NaN</td>\n",
       "      <td>NaN</td>\n",
       "      <td>NaN</td>\n",
       "      <td>NaN</td>\n",
       "      <td>NaN</td>\n",
       "      <td>NaN</td>\n",
       "      <td>NaN</td>\n",
       "      <td>NaN</td>\n",
       "    </tr>\n",
       "    <tr>\n",
       "      <th>3</th>\n",
       "      <td>4</td>\n",
       "      <td>2</td>\n",
       "      <td>2</td>\n",
       "      <td>2.0</td>\n",
       "      <td>1</td>\n",
       "      <td>3</td>\n",
       "      <td>2.0</td>\n",
       "      <td>1070.768474</td>\n",
       "      <td>1</td>\n",
       "      <td>1</td>\n",
       "      <td>...</td>\n",
       "      <td>NaN</td>\n",
       "      <td>NaN</td>\n",
       "      <td>NaN</td>\n",
       "      <td>NaN</td>\n",
       "      <td>NaN</td>\n",
       "      <td>NaN</td>\n",
       "      <td>NaN</td>\n",
       "      <td>NaN</td>\n",
       "      <td>NaN</td>\n",
       "      <td>NaN</td>\n",
       "    </tr>\n",
       "    <tr>\n",
       "      <th>4</th>\n",
       "      <td>5</td>\n",
       "      <td>3</td>\n",
       "      <td>1</td>\n",
       "      <td>NaN</td>\n",
       "      <td>1</td>\n",
       "      <td>3</td>\n",
       "      <td>NaN</td>\n",
       "      <td>1590.508696</td>\n",
       "      <td>1</td>\n",
       "      <td>1</td>\n",
       "      <td>...</td>\n",
       "      <td>3.0</td>\n",
       "      <td>3.0</td>\n",
       "      <td>3.0</td>\n",
       "      <td>2.0</td>\n",
       "      <td>2.0</td>\n",
       "      <td>3.0</td>\n",
       "      <td>2.0</td>\n",
       "      <td>3.0</td>\n",
       "      <td>3.0</td>\n",
       "      <td>1.0</td>\n",
       "    </tr>\n",
       "  </tbody>\n",
       "</table>\n",
       "<p>5 rows × 179 columns</p>\n",
       "</div>"
      ],
      "text/plain": [
       "   ID  DM1  DM2  DM3  DM4  KK1  KK2           WT  Q1A_1  Q1A_2  ...  Q20_2  \\\n",
       "0   1    3    1  NaN    1    3  NaN  1581.361297      1      1  ...    3.0   \n",
       "1   2    3    2  NaN    1    3  NaN  1506.828478      1      1  ...    3.0   \n",
       "2   3    2    1  3.0    1    2  2.0  1380.620423      1      1  ...    NaN   \n",
       "3   4    2    2  2.0    1    3  2.0  1070.768474      1      1  ...    NaN   \n",
       "4   5    3    1  NaN    1    3  NaN  1590.508696      1      1  ...    3.0   \n",
       "\n",
       "   Q20_3  Q20_4  Q20_5  Q20_6  Q20_7  Q20_8  Q20_9  Q20_10  Q21  \n",
       "0    3.0    2.0    3.0    3.0    2.0    3.0    3.0     3.0  4.0  \n",
       "1    3.0    2.0    3.0    2.0    3.0    3.0    2.0     2.0  1.0  \n",
       "2    NaN    NaN    NaN    NaN    NaN    NaN    NaN     NaN  NaN  \n",
       "3    NaN    NaN    NaN    NaN    NaN    NaN    NaN     NaN  NaN  \n",
       "4    3.0    3.0    2.0    2.0    3.0    2.0    3.0     3.0  1.0  \n",
       "\n",
       "[5 rows x 179 columns]"
      ]
     },
     "execution_count": 4,
     "metadata": {},
     "output_type": "execute_result"
    }
   ],
   "source": [
    "df = pd.read_csv('./data/smart_phone_raw_data.csv')\n",
    "df.head()"
   ]
  },
  {
   "cell_type": "code",
   "execution_count": 6,
   "id": "1fd9017e",
   "metadata": {
    "scrolled": true
   },
   "outputs": [
    {
     "data": {
      "text/plain": [
       "(28575, 179)"
      ]
     },
     "execution_count": 6,
     "metadata": {},
     "output_type": "execute_result"
    }
   ],
   "source": [
    "df.shape"
   ]
  },
  {
   "cell_type": "markdown",
   "id": "839845ce",
   "metadata": {},
   "source": [
    "### 시각화를 위한 데이터 뽑아내기"
   ]
  },
  {
   "cell_type": "code",
   "execution_count": 8,
   "id": "bff534ad",
   "metadata": {},
   "outputs": [],
   "source": [
    "media_df = df[['Q8','Q8_1_1', 'Q8_1_2', 'Q8_1_3', 'Q8_1_4', 'Q8_1_5', 'Q8_1_6']]"
   ]
  },
  {
   "cell_type": "code",
   "execution_count": 9,
   "id": "5eec611e",
   "metadata": {},
   "outputs": [
    {
     "data": {
      "text/html": [
       "<div>\n",
       "<style scoped>\n",
       "    .dataframe tbody tr th:only-of-type {\n",
       "        vertical-align: middle;\n",
       "    }\n",
       "\n",
       "    .dataframe tbody tr th {\n",
       "        vertical-align: top;\n",
       "    }\n",
       "\n",
       "    .dataframe thead th {\n",
       "        text-align: right;\n",
       "    }\n",
       "</style>\n",
       "<table border=\"1\" class=\"dataframe\">\n",
       "  <thead>\n",
       "    <tr style=\"text-align: right;\">\n",
       "      <th></th>\n",
       "      <th>Q8</th>\n",
       "      <th>Q8_1_1</th>\n",
       "      <th>Q8_1_2</th>\n",
       "      <th>Q8_1_3</th>\n",
       "      <th>Q8_1_4</th>\n",
       "      <th>Q8_1_5</th>\n",
       "      <th>Q8_1_6</th>\n",
       "    </tr>\n",
       "  </thead>\n",
       "  <tbody>\n",
       "    <tr>\n",
       "      <th>0</th>\n",
       "      <td>1</td>\n",
       "      <td>1.0</td>\n",
       "      <td>2.0</td>\n",
       "      <td>NaN</td>\n",
       "      <td>NaN</td>\n",
       "      <td>NaN</td>\n",
       "      <td>NaN</td>\n",
       "    </tr>\n",
       "    <tr>\n",
       "      <th>1</th>\n",
       "      <td>1</td>\n",
       "      <td>1.0</td>\n",
       "      <td>2.0</td>\n",
       "      <td>NaN</td>\n",
       "      <td>NaN</td>\n",
       "      <td>NaN</td>\n",
       "      <td>NaN</td>\n",
       "    </tr>\n",
       "    <tr>\n",
       "      <th>2</th>\n",
       "      <td>1</td>\n",
       "      <td>3.0</td>\n",
       "      <td>4.0</td>\n",
       "      <td>5.0</td>\n",
       "      <td>NaN</td>\n",
       "      <td>NaN</td>\n",
       "      <td>NaN</td>\n",
       "    </tr>\n",
       "    <tr>\n",
       "      <th>3</th>\n",
       "      <td>1</td>\n",
       "      <td>2.0</td>\n",
       "      <td>3.0</td>\n",
       "      <td>4.0</td>\n",
       "      <td>NaN</td>\n",
       "      <td>NaN</td>\n",
       "      <td>NaN</td>\n",
       "    </tr>\n",
       "    <tr>\n",
       "      <th>4</th>\n",
       "      <td>1</td>\n",
       "      <td>1.0</td>\n",
       "      <td>2.0</td>\n",
       "      <td>NaN</td>\n",
       "      <td>NaN</td>\n",
       "      <td>NaN</td>\n",
       "      <td>NaN</td>\n",
       "    </tr>\n",
       "  </tbody>\n",
       "</table>\n",
       "</div>"
      ],
      "text/plain": [
       "   Q8  Q8_1_1  Q8_1_2  Q8_1_3  Q8_1_4  Q8_1_5  Q8_1_6\n",
       "0   1     1.0     2.0     NaN     NaN     NaN     NaN\n",
       "1   1     1.0     2.0     NaN     NaN     NaN     NaN\n",
       "2   1     3.0     4.0     5.0     NaN     NaN     NaN\n",
       "3   1     2.0     3.0     4.0     NaN     NaN     NaN\n",
       "4   1     1.0     2.0     NaN     NaN     NaN     NaN"
      ]
     },
     "execution_count": 9,
     "metadata": {},
     "output_type": "execute_result"
    }
   ],
   "source": [
    "media_df.head()"
   ]
  },
  {
   "cell_type": "markdown",
   "id": "20df17df",
   "metadata": {},
   "source": [
    "### NaN 값 처리"
   ]
  },
  {
   "cell_type": "code",
   "execution_count": 10,
   "id": "83656a4e",
   "metadata": {},
   "outputs": [
    {
     "name": "stdout",
     "output_type": "stream",
     "text": [
      "<class 'pandas.core.frame.DataFrame'>\n",
      "RangeIndex: 28575 entries, 0 to 28574\n",
      "Data columns (total 7 columns):\n",
      " #   Column  Non-Null Count  Dtype  \n",
      "---  ------  --------------  -----  \n",
      " 0   Q8      28575 non-null  int64  \n",
      " 1   Q8_1_1  24910 non-null  float64\n",
      " 2   Q8_1_2  18797 non-null  float64\n",
      " 3   Q8_1_3  9350 non-null   float64\n",
      " 4   Q8_1_4  3307 non-null   float64\n",
      " 5   Q8_1_5  1322 non-null   float64\n",
      " 6   Q8_1_6  3 non-null      float64\n",
      "dtypes: float64(6), int64(1)\n",
      "memory usage: 1.5 MB\n"
     ]
    }
   ],
   "source": [
    "media_df.info()"
   ]
  },
  {
   "cell_type": "code",
   "execution_count": 11,
   "id": "22a89bdb",
   "metadata": {},
   "outputs": [
    {
     "data": {
      "text/html": [
       "<div>\n",
       "<style scoped>\n",
       "    .dataframe tbody tr th:only-of-type {\n",
       "        vertical-align: middle;\n",
       "    }\n",
       "\n",
       "    .dataframe tbody tr th {\n",
       "        vertical-align: top;\n",
       "    }\n",
       "\n",
       "    .dataframe thead th {\n",
       "        text-align: right;\n",
       "    }\n",
       "</style>\n",
       "<table border=\"1\" class=\"dataframe\">\n",
       "  <thead>\n",
       "    <tr style=\"text-align: right;\">\n",
       "      <th></th>\n",
       "      <th>Q8</th>\n",
       "      <th>Q8_1_1</th>\n",
       "      <th>Q8_1_2</th>\n",
       "      <th>Q8_1_3</th>\n",
       "      <th>Q8_1_4</th>\n",
       "      <th>Q8_1_5</th>\n",
       "      <th>Q8_1_6</th>\n",
       "    </tr>\n",
       "  </thead>\n",
       "  <tbody>\n",
       "    <tr>\n",
       "      <th>0</th>\n",
       "      <td>False</td>\n",
       "      <td>False</td>\n",
       "      <td>False</td>\n",
       "      <td>True</td>\n",
       "      <td>True</td>\n",
       "      <td>True</td>\n",
       "      <td>True</td>\n",
       "    </tr>\n",
       "    <tr>\n",
       "      <th>1</th>\n",
       "      <td>False</td>\n",
       "      <td>False</td>\n",
       "      <td>False</td>\n",
       "      <td>True</td>\n",
       "      <td>True</td>\n",
       "      <td>True</td>\n",
       "      <td>True</td>\n",
       "    </tr>\n",
       "    <tr>\n",
       "      <th>2</th>\n",
       "      <td>False</td>\n",
       "      <td>False</td>\n",
       "      <td>False</td>\n",
       "      <td>False</td>\n",
       "      <td>True</td>\n",
       "      <td>True</td>\n",
       "      <td>True</td>\n",
       "    </tr>\n",
       "    <tr>\n",
       "      <th>3</th>\n",
       "      <td>False</td>\n",
       "      <td>False</td>\n",
       "      <td>False</td>\n",
       "      <td>False</td>\n",
       "      <td>True</td>\n",
       "      <td>True</td>\n",
       "      <td>True</td>\n",
       "    </tr>\n",
       "    <tr>\n",
       "      <th>4</th>\n",
       "      <td>False</td>\n",
       "      <td>False</td>\n",
       "      <td>False</td>\n",
       "      <td>True</td>\n",
       "      <td>True</td>\n",
       "      <td>True</td>\n",
       "      <td>True</td>\n",
       "    </tr>\n",
       "    <tr>\n",
       "      <th>...</th>\n",
       "      <td>...</td>\n",
       "      <td>...</td>\n",
       "      <td>...</td>\n",
       "      <td>...</td>\n",
       "      <td>...</td>\n",
       "      <td>...</td>\n",
       "      <td>...</td>\n",
       "    </tr>\n",
       "    <tr>\n",
       "      <th>28570</th>\n",
       "      <td>False</td>\n",
       "      <td>True</td>\n",
       "      <td>False</td>\n",
       "      <td>True</td>\n",
       "      <td>True</td>\n",
       "      <td>False</td>\n",
       "      <td>True</td>\n",
       "    </tr>\n",
       "    <tr>\n",
       "      <th>28571</th>\n",
       "      <td>False</td>\n",
       "      <td>True</td>\n",
       "      <td>True</td>\n",
       "      <td>True</td>\n",
       "      <td>True</td>\n",
       "      <td>True</td>\n",
       "      <td>True</td>\n",
       "    </tr>\n",
       "    <tr>\n",
       "      <th>28572</th>\n",
       "      <td>False</td>\n",
       "      <td>False</td>\n",
       "      <td>False</td>\n",
       "      <td>False</td>\n",
       "      <td>False</td>\n",
       "      <td>True</td>\n",
       "      <td>True</td>\n",
       "    </tr>\n",
       "    <tr>\n",
       "      <th>28573</th>\n",
       "      <td>False</td>\n",
       "      <td>False</td>\n",
       "      <td>False</td>\n",
       "      <td>True</td>\n",
       "      <td>True</td>\n",
       "      <td>True</td>\n",
       "      <td>True</td>\n",
       "    </tr>\n",
       "    <tr>\n",
       "      <th>28574</th>\n",
       "      <td>False</td>\n",
       "      <td>False</td>\n",
       "      <td>True</td>\n",
       "      <td>True</td>\n",
       "      <td>True</td>\n",
       "      <td>True</td>\n",
       "      <td>True</td>\n",
       "    </tr>\n",
       "  </tbody>\n",
       "</table>\n",
       "<p>28575 rows × 7 columns</p>\n",
       "</div>"
      ],
      "text/plain": [
       "          Q8  Q8_1_1  Q8_1_2  Q8_1_3  Q8_1_4  Q8_1_5  Q8_1_6\n",
       "0      False   False   False    True    True    True    True\n",
       "1      False   False   False    True    True    True    True\n",
       "2      False   False   False   False    True    True    True\n",
       "3      False   False   False   False    True    True    True\n",
       "4      False   False   False    True    True    True    True\n",
       "...      ...     ...     ...     ...     ...     ...     ...\n",
       "28570  False    True   False    True    True   False    True\n",
       "28571  False    True    True    True    True    True    True\n",
       "28572  False   False   False   False   False    True    True\n",
       "28573  False   False   False    True    True    True    True\n",
       "28574  False   False    True    True    True    True    True\n",
       "\n",
       "[28575 rows x 7 columns]"
      ]
     },
     "execution_count": 11,
     "metadata": {},
     "output_type": "execute_result"
    }
   ],
   "source": [
    "media_df.isnull()"
   ]
  },
  {
   "cell_type": "code",
   "execution_count": 8,
   "id": "e552a2ef",
   "metadata": {},
   "outputs": [
    {
     "name": "stderr",
     "output_type": "stream",
     "text": [
      "C:\\Users\\user\\anaconda3\\lib\\site-packages\\pandas\\core\\series.py:4463: SettingWithCopyWarning: \n",
      "A value is trying to be set on a copy of a slice from a DataFrame\n",
      "\n",
      "See the caveats in the documentation: https://pandas.pydata.org/pandas-docs/stable/user_guide/indexing.html#returning-a-view-versus-a-copy\n",
      "  return super().fillna(\n"
     ]
    }
   ],
   "source": [
    "media_df['Q8'].fillna(0, inplace=True)\n",
    "for i in range(1,7):\n",
    "    media_df['Q8_1_%d' %i].fillna(0, inplace=True)"
   ]
  },
  {
   "cell_type": "code",
   "execution_count": 9,
   "id": "fdf3f26e",
   "metadata": {},
   "outputs": [
    {
     "name": "stdout",
     "output_type": "stream",
     "text": [
      "<class 'pandas.core.frame.DataFrame'>\n",
      "RangeIndex: 28575 entries, 0 to 28574\n",
      "Data columns (total 7 columns):\n",
      " #   Column  Non-Null Count  Dtype  \n",
      "---  ------  --------------  -----  \n",
      " 0   Q8      28575 non-null  int64  \n",
      " 1   Q8_1_1  28575 non-null  float64\n",
      " 2   Q8_1_2  28575 non-null  float64\n",
      " 3   Q8_1_3  28575 non-null  float64\n",
      " 4   Q8_1_4  28575 non-null  float64\n",
      " 5   Q8_1_5  28575 non-null  float64\n",
      " 6   Q8_1_6  28575 non-null  float64\n",
      "dtypes: float64(6), int64(1)\n",
      "memory usage: 1.5 MB\n"
     ]
    }
   ],
   "source": [
    "media_df.info()"
   ]
  },
  {
   "cell_type": "code",
   "execution_count": 10,
   "id": "7faef2b9",
   "metadata": {},
   "outputs": [
    {
     "data": {
      "text/html": [
       "<div>\n",
       "<style scoped>\n",
       "    .dataframe tbody tr th:only-of-type {\n",
       "        vertical-align: middle;\n",
       "    }\n",
       "\n",
       "    .dataframe tbody tr th {\n",
       "        vertical-align: top;\n",
       "    }\n",
       "\n",
       "    .dataframe thead th {\n",
       "        text-align: right;\n",
       "    }\n",
       "</style>\n",
       "<table border=\"1\" class=\"dataframe\">\n",
       "  <thead>\n",
       "    <tr style=\"text-align: right;\">\n",
       "      <th></th>\n",
       "      <th>Q8</th>\n",
       "      <th>Q8_1_1</th>\n",
       "      <th>Q8_1_2</th>\n",
       "      <th>Q8_1_3</th>\n",
       "      <th>Q8_1_4</th>\n",
       "      <th>Q8_1_5</th>\n",
       "      <th>Q8_1_6</th>\n",
       "    </tr>\n",
       "  </thead>\n",
       "  <tbody>\n",
       "    <tr>\n",
       "      <th>0</th>\n",
       "      <td>1</td>\n",
       "      <td>1.0</td>\n",
       "      <td>2.0</td>\n",
       "      <td>0.0</td>\n",
       "      <td>0.0</td>\n",
       "      <td>0.0</td>\n",
       "      <td>0.0</td>\n",
       "    </tr>\n",
       "    <tr>\n",
       "      <th>1</th>\n",
       "      <td>1</td>\n",
       "      <td>1.0</td>\n",
       "      <td>2.0</td>\n",
       "      <td>0.0</td>\n",
       "      <td>0.0</td>\n",
       "      <td>0.0</td>\n",
       "      <td>0.0</td>\n",
       "    </tr>\n",
       "    <tr>\n",
       "      <th>2</th>\n",
       "      <td>1</td>\n",
       "      <td>3.0</td>\n",
       "      <td>4.0</td>\n",
       "      <td>5.0</td>\n",
       "      <td>0.0</td>\n",
       "      <td>0.0</td>\n",
       "      <td>0.0</td>\n",
       "    </tr>\n",
       "    <tr>\n",
       "      <th>3</th>\n",
       "      <td>1</td>\n",
       "      <td>2.0</td>\n",
       "      <td>3.0</td>\n",
       "      <td>4.0</td>\n",
       "      <td>0.0</td>\n",
       "      <td>0.0</td>\n",
       "      <td>0.0</td>\n",
       "    </tr>\n",
       "    <tr>\n",
       "      <th>4</th>\n",
       "      <td>1</td>\n",
       "      <td>1.0</td>\n",
       "      <td>2.0</td>\n",
       "      <td>0.0</td>\n",
       "      <td>0.0</td>\n",
       "      <td>0.0</td>\n",
       "      <td>0.0</td>\n",
       "    </tr>\n",
       "  </tbody>\n",
       "</table>\n",
       "</div>"
      ],
      "text/plain": [
       "   Q8  Q8_1_1  Q8_1_2  Q8_1_3  Q8_1_4  Q8_1_5  Q8_1_6\n",
       "0   1     1.0     2.0     0.0     0.0     0.0     0.0\n",
       "1   1     1.0     2.0     0.0     0.0     0.0     0.0\n",
       "2   1     3.0     4.0     5.0     0.0     0.0     0.0\n",
       "3   1     2.0     3.0     4.0     0.0     0.0     0.0\n",
       "4   1     1.0     2.0     0.0     0.0     0.0     0.0"
      ]
     },
     "execution_count": 10,
     "metadata": {},
     "output_type": "execute_result"
    }
   ],
   "source": [
    "media_df.head()"
   ]
  },
  {
   "cell_type": "markdown",
   "id": "17e24453",
   "metadata": {},
   "source": [
    "### 스마트폰으로 온라인 동영상 서비스 이용 여부 (1:있다 2:없다)"
   ]
  },
  {
   "cell_type": "code",
   "execution_count": 11,
   "id": "87070c13",
   "metadata": {},
   "outputs": [],
   "source": [
    "media_df_Q8 = media_df[['Q8']]"
   ]
  },
  {
   "cell_type": "code",
   "execution_count": 12,
   "id": "75fdd341",
   "metadata": {
    "scrolled": false
   },
   "outputs": [
    {
     "name": "stdout",
     "output_type": "stream",
     "text": [
      "이용여부 분포: Q8\n",
      "1     25340\n",
      "2      3235\n",
      "dtype: int64\n"
     ]
    }
   ],
   "source": [
    "print('이용여부 분포:', media_df[['Q8']].value_counts())"
   ]
  },
  {
   "cell_type": "code",
   "execution_count": 13,
   "id": "b1da3d10",
   "metadata": {},
   "outputs": [
    {
     "data": {
      "text/plain": [
       "Q8    25340\n",
       "dtype: int64"
      ]
     },
     "execution_count": 13,
     "metadata": {},
     "output_type": "execute_result"
    }
   ],
   "source": [
    "media_df_Q8[media_df_Q8['Q8']==1].sum()"
   ]
  },
  {
   "cell_type": "code",
   "execution_count": 14,
   "id": "c95f7482",
   "metadata": {},
   "outputs": [
    {
     "data": {
      "text/plain": [
       "Q8    3235.0\n",
       "dtype: float64"
      ]
     },
     "execution_count": 14,
     "metadata": {},
     "output_type": "execute_result"
    }
   ],
   "source": [
    "media_df_Q8[media_df_Q8['Q8']==2].sum()/2"
   ]
  },
  {
   "cell_type": "code",
   "execution_count": 15,
   "id": "f9b96cea",
   "metadata": {},
   "outputs": [],
   "source": [
    "total = media_df_Q8[media_df_Q8['Q8']==1].sum() + media_df_Q8[media_df_Q8['Q8']==2].sum()/2"
   ]
  },
  {
   "cell_type": "code",
   "execution_count": 16,
   "id": "e6973895",
   "metadata": {},
   "outputs": [
    {
     "data": {
      "text/plain": [
       "Q8    28575.0\n",
       "dtype: float64"
      ]
     },
     "execution_count": 16,
     "metadata": {},
     "output_type": "execute_result"
    }
   ],
   "source": [
    "total"
   ]
  },
  {
   "cell_type": "code",
   "execution_count": 17,
   "id": "02c613c1",
   "metadata": {},
   "outputs": [],
   "source": [
    "yes = media_df_Q8[media_df_Q8['Q8']==1].sum() / total * 100"
   ]
  },
  {
   "cell_type": "code",
   "execution_count": 18,
   "id": "4e931ae4",
   "metadata": {},
   "outputs": [],
   "source": [
    "yes = yes.to_frame()"
   ]
  },
  {
   "cell_type": "code",
   "execution_count": 19,
   "id": "63b6a48d",
   "metadata": {},
   "outputs": [
    {
     "data": {
      "text/html": [
       "<div>\n",
       "<style scoped>\n",
       "    .dataframe tbody tr th:only-of-type {\n",
       "        vertical-align: middle;\n",
       "    }\n",
       "\n",
       "    .dataframe tbody tr th {\n",
       "        vertical-align: top;\n",
       "    }\n",
       "\n",
       "    .dataframe thead th {\n",
       "        text-align: right;\n",
       "    }\n",
       "</style>\n",
       "<table border=\"1\" class=\"dataframe\">\n",
       "  <thead>\n",
       "    <tr style=\"text-align: right;\">\n",
       "      <th></th>\n",
       "      <th>0</th>\n",
       "    </tr>\n",
       "  </thead>\n",
       "  <tbody>\n",
       "    <tr>\n",
       "      <th>Q8</th>\n",
       "      <td>88.678915</td>\n",
       "    </tr>\n",
       "  </tbody>\n",
       "</table>\n",
       "</div>"
      ],
      "text/plain": [
       "            0\n",
       "Q8  88.678915"
      ]
     },
     "execution_count": 19,
     "metadata": {},
     "output_type": "execute_result"
    }
   ],
   "source": [
    "yes"
   ]
  },
  {
   "cell_type": "code",
   "execution_count": 20,
   "id": "9cb13964",
   "metadata": {},
   "outputs": [],
   "source": [
    "no =  media_df_Q8[media_df_Q8['Q8']==2].sum() / total * 100"
   ]
  },
  {
   "cell_type": "code",
   "execution_count": 21,
   "id": "59c0cfbf",
   "metadata": {},
   "outputs": [],
   "source": [
    "no = no.to_frame()"
   ]
  },
  {
   "cell_type": "code",
   "execution_count": 22,
   "id": "c6629a6c",
   "metadata": {
    "scrolled": true
   },
   "outputs": [
    {
     "data": {
      "text/html": [
       "<div>\n",
       "<style scoped>\n",
       "    .dataframe tbody tr th:only-of-type {\n",
       "        vertical-align: middle;\n",
       "    }\n",
       "\n",
       "    .dataframe tbody tr th {\n",
       "        vertical-align: top;\n",
       "    }\n",
       "\n",
       "    .dataframe thead th {\n",
       "        text-align: right;\n",
       "    }\n",
       "</style>\n",
       "<table border=\"1\" class=\"dataframe\">\n",
       "  <thead>\n",
       "    <tr style=\"text-align: right;\">\n",
       "      <th></th>\n",
       "      <th>0</th>\n",
       "    </tr>\n",
       "  </thead>\n",
       "  <tbody>\n",
       "    <tr>\n",
       "      <th>Q8</th>\n",
       "      <td>22.64217</td>\n",
       "    </tr>\n",
       "  </tbody>\n",
       "</table>\n",
       "</div>"
      ],
      "text/plain": [
       "           0\n",
       "Q8  22.64217"
      ]
     },
     "execution_count": 22,
     "metadata": {},
     "output_type": "execute_result"
    }
   ],
   "source": [
    "no"
   ]
  },
  {
   "cell_type": "code",
   "execution_count": 23,
   "id": "0bebf074",
   "metadata": {},
   "outputs": [
    {
     "data": {
      "text/html": [
       "<div>\n",
       "<style scoped>\n",
       "    .dataframe tbody tr th:only-of-type {\n",
       "        vertical-align: middle;\n",
       "    }\n",
       "\n",
       "    .dataframe tbody tr th {\n",
       "        vertical-align: top;\n",
       "    }\n",
       "\n",
       "    .dataframe thead th {\n",
       "        text-align: right;\n",
       "    }\n",
       "</style>\n",
       "<table border=\"1\" class=\"dataframe\">\n",
       "  <thead>\n",
       "    <tr style=\"text-align: right;\">\n",
       "      <th></th>\n",
       "      <th>0</th>\n",
       "    </tr>\n",
       "  </thead>\n",
       "  <tbody>\n",
       "    <tr>\n",
       "      <th>Q8</th>\n",
       "      <td>88.678915</td>\n",
       "    </tr>\n",
       "    <tr>\n",
       "      <th>Q8</th>\n",
       "      <td>22.642170</td>\n",
       "    </tr>\n",
       "  </tbody>\n",
       "</table>\n",
       "</div>"
      ],
      "text/plain": [
       "            0\n",
       "Q8  88.678915\n",
       "Q8  22.642170"
      ]
     },
     "execution_count": 23,
     "metadata": {},
     "output_type": "execute_result"
    }
   ],
   "source": [
    "total_df = pd.concat([yes,no])\n",
    "total_df"
   ]
  },
  {
   "cell_type": "code",
   "execution_count": 24,
   "id": "cdd6f9de",
   "metadata": {},
   "outputs": [
    {
     "data": {
      "image/png": "[encoded data removed]",
      "text/plain": [
       "<Figure size 720x720 with 1 Axes>"
      ]
     },
     "metadata": {},
     "output_type": "display_data"
    }
   ],
   "source": [
    "# plt.pie(데이터, 라벨, autopct(전체대비비율)=소수점표시, startangle(부채꼴 시작 각도), shadow(그림자 효과 유무), explode(돌출))\n",
    "\n",
    "plt.figure(figsize=(10,10))\n",
    "plt.rc('font', size=12)\n",
    "\n",
    "ratio = total_df[0].tolist()\n",
    "labels = ['있다', '없다'] \n",
    "explode = [0.05, 0.05]\n",
    "colors = ['#4A9ABE', '#55B794'] \n",
    "wedgeprops={'width': 0.7, 'edgecolor': 'w', 'linewidth': 2}\n",
    "\n",
    "plt.pie(ratio, labels=labels, autopct='%.1f%%', startangle=-10, counterclock=False, explode=explode, colors=colors, wedgeprops=wedgeprops)\n",
    "plt.show()"
   ]
  },
  {
   "cell_type": "markdown",
   "id": "bdf3d51a",
   "metadata": {},
   "source": [
    "- 스마트폰으로 영상을 시청한 비율이 있다가 80%로 대부분을 차지 "
   ]
  },
  {
   "cell_type": "markdown",
   "id": "80401a89",
   "metadata": {},
   "source": [
    "### 자주 이용하는 서비스 유형"
   ]
  },
  {
   "cell_type": "code",
   "execution_count": 114,
   "id": "5dd9117a",
   "metadata": {},
   "outputs": [],
   "source": [
    "media_df1=media_df[media_df['Q8']==1]"
   ]
  },
  {
   "cell_type": "code",
   "execution_count": 115,
   "id": "5361574c",
   "metadata": {},
   "outputs": [
    {
     "data": {
      "text/html": [
       "<div>\n",
       "<style scoped>\n",
       "    .dataframe tbody tr th:only-of-type {\n",
       "        vertical-align: middle;\n",
       "    }\n",
       "\n",
       "    .dataframe tbody tr th {\n",
       "        vertical-align: top;\n",
       "    }\n",
       "\n",
       "    .dataframe thead th {\n",
       "        text-align: right;\n",
       "    }\n",
       "</style>\n",
       "<table border=\"1\" class=\"dataframe\">\n",
       "  <thead>\n",
       "    <tr style=\"text-align: right;\">\n",
       "      <th></th>\n",
       "      <th>Q8</th>\n",
       "      <th>Q8_1_1</th>\n",
       "      <th>Q8_1_2</th>\n",
       "      <th>Q8_1_3</th>\n",
       "      <th>Q8_1_4</th>\n",
       "      <th>Q8_1_5</th>\n",
       "      <th>Q8_1_6</th>\n",
       "    </tr>\n",
       "  </thead>\n",
       "  <tbody>\n",
       "    <tr>\n",
       "      <th>0</th>\n",
       "      <td>1</td>\n",
       "      <td>1.0</td>\n",
       "      <td>2.0</td>\n",
       "      <td>0.0</td>\n",
       "      <td>0.0</td>\n",
       "      <td>0.0</td>\n",
       "      <td>0.0</td>\n",
       "    </tr>\n",
       "    <tr>\n",
       "      <th>1</th>\n",
       "      <td>1</td>\n",
       "      <td>1.0</td>\n",
       "      <td>2.0</td>\n",
       "      <td>0.0</td>\n",
       "      <td>0.0</td>\n",
       "      <td>0.0</td>\n",
       "      <td>0.0</td>\n",
       "    </tr>\n",
       "    <tr>\n",
       "      <th>2</th>\n",
       "      <td>1</td>\n",
       "      <td>3.0</td>\n",
       "      <td>4.0</td>\n",
       "      <td>5.0</td>\n",
       "      <td>0.0</td>\n",
       "      <td>0.0</td>\n",
       "      <td>0.0</td>\n",
       "    </tr>\n",
       "    <tr>\n",
       "      <th>3</th>\n",
       "      <td>1</td>\n",
       "      <td>2.0</td>\n",
       "      <td>3.0</td>\n",
       "      <td>4.0</td>\n",
       "      <td>0.0</td>\n",
       "      <td>0.0</td>\n",
       "      <td>0.0</td>\n",
       "    </tr>\n",
       "    <tr>\n",
       "      <th>4</th>\n",
       "      <td>1</td>\n",
       "      <td>1.0</td>\n",
       "      <td>2.0</td>\n",
       "      <td>0.0</td>\n",
       "      <td>0.0</td>\n",
       "      <td>0.0</td>\n",
       "      <td>0.0</td>\n",
       "    </tr>\n",
       "    <tr>\n",
       "      <th>...</th>\n",
       "      <td>...</td>\n",
       "      <td>...</td>\n",
       "      <td>...</td>\n",
       "      <td>...</td>\n",
       "      <td>...</td>\n",
       "      <td>...</td>\n",
       "      <td>...</td>\n",
       "    </tr>\n",
       "    <tr>\n",
       "      <th>28569</th>\n",
       "      <td>1</td>\n",
       "      <td>2.0</td>\n",
       "      <td>0.0</td>\n",
       "      <td>0.0</td>\n",
       "      <td>0.0</td>\n",
       "      <td>0.0</td>\n",
       "      <td>0.0</td>\n",
       "    </tr>\n",
       "    <tr>\n",
       "      <th>28570</th>\n",
       "      <td>1</td>\n",
       "      <td>0.0</td>\n",
       "      <td>2.0</td>\n",
       "      <td>0.0</td>\n",
       "      <td>0.0</td>\n",
       "      <td>5.0</td>\n",
       "      <td>0.0</td>\n",
       "    </tr>\n",
       "    <tr>\n",
       "      <th>28572</th>\n",
       "      <td>1</td>\n",
       "      <td>1.0</td>\n",
       "      <td>2.0</td>\n",
       "      <td>3.0</td>\n",
       "      <td>5.0</td>\n",
       "      <td>0.0</td>\n",
       "      <td>0.0</td>\n",
       "    </tr>\n",
       "    <tr>\n",
       "      <th>28573</th>\n",
       "      <td>1</td>\n",
       "      <td>1.0</td>\n",
       "      <td>2.0</td>\n",
       "      <td>0.0</td>\n",
       "      <td>0.0</td>\n",
       "      <td>0.0</td>\n",
       "      <td>0.0</td>\n",
       "    </tr>\n",
       "    <tr>\n",
       "      <th>28574</th>\n",
       "      <td>1</td>\n",
       "      <td>2.0</td>\n",
       "      <td>0.0</td>\n",
       "      <td>0.0</td>\n",
       "      <td>0.0</td>\n",
       "      <td>0.0</td>\n",
       "      <td>0.0</td>\n",
       "    </tr>\n",
       "  </tbody>\n",
       "</table>\n",
       "<p>25340 rows × 7 columns</p>\n",
       "</div>"
      ],
      "text/plain": [
       "       Q8  Q8_1_1  Q8_1_2  Q8_1_3  Q8_1_4  Q8_1_5  Q8_1_6\n",
       "0       1     1.0     2.0     0.0     0.0     0.0     0.0\n",
       "1       1     1.0     2.0     0.0     0.0     0.0     0.0\n",
       "2       1     3.0     4.0     5.0     0.0     0.0     0.0\n",
       "3       1     2.0     3.0     4.0     0.0     0.0     0.0\n",
       "4       1     1.0     2.0     0.0     0.0     0.0     0.0\n",
       "...    ..     ...     ...     ...     ...     ...     ...\n",
       "28569   1     2.0     0.0     0.0     0.0     0.0     0.0\n",
       "28570   1     0.0     2.0     0.0     0.0     5.0     0.0\n",
       "28572   1     1.0     2.0     3.0     5.0     0.0     0.0\n",
       "28573   1     1.0     2.0     0.0     0.0     0.0     0.0\n",
       "28574   1     2.0     0.0     0.0     0.0     0.0     0.0\n",
       "\n",
       "[25340 rows x 7 columns]"
      ]
     },
     "execution_count": 115,
     "metadata": {},
     "output_type": "execute_result"
    }
   ],
   "source": [
    "media_df1"
   ]
  },
  {
   "cell_type": "markdown",
   "id": "d932e391",
   "metadata": {},
   "source": [
    "### 유형 별 개수 확인\n",
    "- Q8_1_1에 1번 문항만 표시되어 있는게 아니라 1~5번까지 다양하게 표시되어 있음\n",
    "- 0번은 선택되지 않은 것\n",
    "- 전체 데이터프레임에서 1번의 총 개수, 2번의 총 개수, ... 이런식으로 구해야함"
   ]
  },
  {
   "cell_type": "code",
   "execution_count": 116,
   "id": "ce136854",
   "metadata": {},
   "outputs": [
    {
     "name": "stdout",
     "output_type": "stream",
     "text": [
      "자주 이용하는 서비스 유형: 1.0    10824\n",
      "2.0     8962\n",
      "3.0     3879\n",
      "5.0      713\n",
      "4.0      532\n",
      "0.0      430\n",
      "Name: Q8_1_1, dtype: int64\n",
      "자주 이용하는 서비스 유형: 2.0    8878\n",
      "0.0    6543\n",
      "3.0    6462\n",
      "4.0    1920\n",
      "5.0    1529\n",
      "6.0       8\n",
      "Name: Q8_1_2, dtype: int64\n",
      "자주 이용하는 서비스 유형: 0.0    15990\n",
      "3.0     4955\n",
      "4.0     2109\n",
      "5.0     1994\n",
      "2.0      291\n",
      "6.0        1\n",
      "Name: Q8_1_3, dtype: int64\n",
      "자주 이용하는 서비스 유형: 0.0    22033\n",
      "4.0     1887\n",
      "5.0     1419\n",
      "3.0        1\n",
      "Name: Q8_1_4, dtype: int64\n",
      "자주 이용하는 서비스 유형: 0.0    24018\n",
      "5.0     1321\n",
      "4.0        1\n",
      "Name: Q8_1_5, dtype: int64\n",
      "자주 이용하는 서비스 유형: 0.0    25337\n",
      "6.0        3\n",
      "Name: Q8_1_6, dtype: int64\n"
     ]
    }
   ],
   "source": [
    "print('자주 이용하는 서비스 유형:', media_df1['Q8_1_1'].value_counts())\n",
    "print('자주 이용하는 서비스 유형:', media_df1['Q8_1_2'].value_counts())\n",
    "print('자주 이용하는 서비스 유형:', media_df1['Q8_1_3'].value_counts())\n",
    "print('자주 이용하는 서비스 유형:', media_df1['Q8_1_4'].value_counts())\n",
    "print('자주 이용하는 서비스 유형:', media_df1['Q8_1_5'].value_counts())\n",
    "print('자주 이용하는 서비스 유형:', media_df1['Q8_1_6'].value_counts())"
   ]
  },
  {
   "cell_type": "markdown",
   "id": "82fa7578",
   "metadata": {},
   "source": [
    "### 문항별 1~6번 개수 구해서 데이터 프레임 생성"
   ]
  },
  {
   "cell_type": "code",
   "execution_count": 117,
   "id": "40bfc32e",
   "metadata": {},
   "outputs": [],
   "source": [
    "Q8_1_1 = pd.DataFrame(media_df1['Q8_1_1'].value_counts()).sort_index()\n",
    "Q8_1_2 = pd.DataFrame(media_df1['Q8_1_2'].value_counts()).sort_index()\n",
    "Q8_1_3 = pd.DataFrame(media_df1['Q8_1_3'].value_counts()).sort_index()\n",
    "Q8_1_4 = pd.DataFrame(media_df1['Q8_1_4'].value_counts()).sort_index()\n",
    "Q8_1_5 = pd.DataFrame(media_df1['Q8_1_5'].value_counts()).sort_index()\n",
    "Q8_1_6 = pd.DataFrame(media_df1['Q8_1_6'].value_counts()).sort_index()"
   ]
  },
  {
   "cell_type": "code",
   "execution_count": 118,
   "id": "0953bd07",
   "metadata": {},
   "outputs": [],
   "source": [
    "Q8_1_1.loc[6.0] = 0"
   ]
  },
  {
   "cell_type": "code",
   "execution_count": 119,
   "id": "53fb75cf",
   "metadata": {
    "scrolled": true
   },
   "outputs": [
    {
     "data": {
      "text/html": [
       "<div>\n",
       "<style scoped>\n",
       "    .dataframe tbody tr th:only-of-type {\n",
       "        vertical-align: middle;\n",
       "    }\n",
       "\n",
       "    .dataframe tbody tr th {\n",
       "        vertical-align: top;\n",
       "    }\n",
       "\n",
       "    .dataframe thead th {\n",
       "        text-align: right;\n",
       "    }\n",
       "</style>\n",
       "<table border=\"1\" class=\"dataframe\">\n",
       "  <thead>\n",
       "    <tr style=\"text-align: right;\">\n",
       "      <th></th>\n",
       "      <th>Q8_1_1</th>\n",
       "    </tr>\n",
       "  </thead>\n",
       "  <tbody>\n",
       "    <tr>\n",
       "      <th>0.0</th>\n",
       "      <td>430</td>\n",
       "    </tr>\n",
       "    <tr>\n",
       "      <th>1.0</th>\n",
       "      <td>10824</td>\n",
       "    </tr>\n",
       "    <tr>\n",
       "      <th>2.0</th>\n",
       "      <td>8962</td>\n",
       "    </tr>\n",
       "    <tr>\n",
       "      <th>3.0</th>\n",
       "      <td>3879</td>\n",
       "    </tr>\n",
       "    <tr>\n",
       "      <th>4.0</th>\n",
       "      <td>532</td>\n",
       "    </tr>\n",
       "    <tr>\n",
       "      <th>5.0</th>\n",
       "      <td>713</td>\n",
       "    </tr>\n",
       "    <tr>\n",
       "      <th>6.0</th>\n",
       "      <td>0</td>\n",
       "    </tr>\n",
       "  </tbody>\n",
       "</table>\n",
       "</div>"
      ],
      "text/plain": [
       "     Q8_1_1\n",
       "0.0     430\n",
       "1.0   10824\n",
       "2.0    8962\n",
       "3.0    3879\n",
       "4.0     532\n",
       "5.0     713\n",
       "6.0       0"
      ]
     },
     "execution_count": 119,
     "metadata": {},
     "output_type": "execute_result"
    }
   ],
   "source": [
    "Q8_1_1"
   ]
  },
  {
   "cell_type": "code",
   "execution_count": 120,
   "id": "257e1b51",
   "metadata": {},
   "outputs": [
    {
     "data": {
      "text/html": [
       "<div>\n",
       "<style scoped>\n",
       "    .dataframe tbody tr th:only-of-type {\n",
       "        vertical-align: middle;\n",
       "    }\n",
       "\n",
       "    .dataframe tbody tr th {\n",
       "        vertical-align: top;\n",
       "    }\n",
       "\n",
       "    .dataframe thead th {\n",
       "        text-align: right;\n",
       "    }\n",
       "</style>\n",
       "<table border=\"1\" class=\"dataframe\">\n",
       "  <thead>\n",
       "    <tr style=\"text-align: right;\">\n",
       "      <th></th>\n",
       "      <th>Q8_1_2</th>\n",
       "    </tr>\n",
       "  </thead>\n",
       "  <tbody>\n",
       "    <tr>\n",
       "      <th>0.0</th>\n",
       "      <td>6543</td>\n",
       "    </tr>\n",
       "    <tr>\n",
       "      <th>2.0</th>\n",
       "      <td>8878</td>\n",
       "    </tr>\n",
       "    <tr>\n",
       "      <th>3.0</th>\n",
       "      <td>6462</td>\n",
       "    </tr>\n",
       "    <tr>\n",
       "      <th>4.0</th>\n",
       "      <td>1920</td>\n",
       "    </tr>\n",
       "    <tr>\n",
       "      <th>5.0</th>\n",
       "      <td>1529</td>\n",
       "    </tr>\n",
       "    <tr>\n",
       "      <th>6.0</th>\n",
       "      <td>8</td>\n",
       "    </tr>\n",
       "  </tbody>\n",
       "</table>\n",
       "</div>"
      ],
      "text/plain": [
       "     Q8_1_2\n",
       "0.0    6543\n",
       "2.0    8878\n",
       "3.0    6462\n",
       "4.0    1920\n",
       "5.0    1529\n",
       "6.0       8"
      ]
     },
     "execution_count": 120,
     "metadata": {},
     "output_type": "execute_result"
    }
   ],
   "source": [
    "Q8_1_2"
   ]
  },
  {
   "cell_type": "code",
   "execution_count": 121,
   "id": "498c5a6d",
   "metadata": {},
   "outputs": [
    {
     "data": {
      "text/html": [
       "<div>\n",
       "<style scoped>\n",
       "    .dataframe tbody tr th:only-of-type {\n",
       "        vertical-align: middle;\n",
       "    }\n",
       "\n",
       "    .dataframe tbody tr th {\n",
       "        vertical-align: top;\n",
       "    }\n",
       "\n",
       "    .dataframe thead th {\n",
       "        text-align: right;\n",
       "    }\n",
       "</style>\n",
       "<table border=\"1\" class=\"dataframe\">\n",
       "  <thead>\n",
       "    <tr style=\"text-align: right;\">\n",
       "      <th></th>\n",
       "      <th>Q8_1_3</th>\n",
       "    </tr>\n",
       "  </thead>\n",
       "  <tbody>\n",
       "    <tr>\n",
       "      <th>0.0</th>\n",
       "      <td>15990</td>\n",
       "    </tr>\n",
       "    <tr>\n",
       "      <th>2.0</th>\n",
       "      <td>291</td>\n",
       "    </tr>\n",
       "    <tr>\n",
       "      <th>3.0</th>\n",
       "      <td>4955</td>\n",
       "    </tr>\n",
       "    <tr>\n",
       "      <th>4.0</th>\n",
       "      <td>2109</td>\n",
       "    </tr>\n",
       "    <tr>\n",
       "      <th>5.0</th>\n",
       "      <td>1994</td>\n",
       "    </tr>\n",
       "    <tr>\n",
       "      <th>6.0</th>\n",
       "      <td>1</td>\n",
       "    </tr>\n",
       "  </tbody>\n",
       "</table>\n",
       "</div>"
      ],
      "text/plain": [
       "     Q8_1_3\n",
       "0.0   15990\n",
       "2.0     291\n",
       "3.0    4955\n",
       "4.0    2109\n",
       "5.0    1994\n",
       "6.0       1"
      ]
     },
     "execution_count": 121,
     "metadata": {},
     "output_type": "execute_result"
    }
   ],
   "source": [
    "Q8_1_3"
   ]
  },
  {
   "cell_type": "code",
   "execution_count": 122,
   "id": "cbfcfe69",
   "metadata": {},
   "outputs": [
    {
     "data": {
      "text/html": [
       "<div>\n",
       "<style scoped>\n",
       "    .dataframe tbody tr th:only-of-type {\n",
       "        vertical-align: middle;\n",
       "    }\n",
       "\n",
       "    .dataframe tbody tr th {\n",
       "        vertical-align: top;\n",
       "    }\n",
       "\n",
       "    .dataframe thead th {\n",
       "        text-align: right;\n",
       "    }\n",
       "</style>\n",
       "<table border=\"1\" class=\"dataframe\">\n",
       "  <thead>\n",
       "    <tr style=\"text-align: right;\">\n",
       "      <th></th>\n",
       "      <th>Q8_1_4</th>\n",
       "    </tr>\n",
       "  </thead>\n",
       "  <tbody>\n",
       "    <tr>\n",
       "      <th>0.0</th>\n",
       "      <td>22033</td>\n",
       "    </tr>\n",
       "    <tr>\n",
       "      <th>3.0</th>\n",
       "      <td>1</td>\n",
       "    </tr>\n",
       "    <tr>\n",
       "      <th>4.0</th>\n",
       "      <td>1887</td>\n",
       "    </tr>\n",
       "    <tr>\n",
       "      <th>5.0</th>\n",
       "      <td>1419</td>\n",
       "    </tr>\n",
       "  </tbody>\n",
       "</table>\n",
       "</div>"
      ],
      "text/plain": [
       "     Q8_1_4\n",
       "0.0   22033\n",
       "3.0       1\n",
       "4.0    1887\n",
       "5.0    1419"
      ]
     },
     "execution_count": 122,
     "metadata": {},
     "output_type": "execute_result"
    }
   ],
   "source": [
    "Q8_1_4"
   ]
  },
  {
   "cell_type": "code",
   "execution_count": 123,
   "id": "61a44ae9",
   "metadata": {},
   "outputs": [
    {
     "data": {
      "text/html": [
       "<div>\n",
       "<style scoped>\n",
       "    .dataframe tbody tr th:only-of-type {\n",
       "        vertical-align: middle;\n",
       "    }\n",
       "\n",
       "    .dataframe tbody tr th {\n",
       "        vertical-align: top;\n",
       "    }\n",
       "\n",
       "    .dataframe thead th {\n",
       "        text-align: right;\n",
       "    }\n",
       "</style>\n",
       "<table border=\"1\" class=\"dataframe\">\n",
       "  <thead>\n",
       "    <tr style=\"text-align: right;\">\n",
       "      <th></th>\n",
       "      <th>Q8_1_5</th>\n",
       "    </tr>\n",
       "  </thead>\n",
       "  <tbody>\n",
       "    <tr>\n",
       "      <th>0.0</th>\n",
       "      <td>24018</td>\n",
       "    </tr>\n",
       "    <tr>\n",
       "      <th>4.0</th>\n",
       "      <td>1</td>\n",
       "    </tr>\n",
       "    <tr>\n",
       "      <th>5.0</th>\n",
       "      <td>1321</td>\n",
       "    </tr>\n",
       "  </tbody>\n",
       "</table>\n",
       "</div>"
      ],
      "text/plain": [
       "     Q8_1_5\n",
       "0.0   24018\n",
       "4.0       1\n",
       "5.0    1321"
      ]
     },
     "execution_count": 123,
     "metadata": {},
     "output_type": "execute_result"
    }
   ],
   "source": [
    "Q8_1_5"
   ]
  },
  {
   "cell_type": "code",
   "execution_count": 124,
   "id": "851bd56b",
   "metadata": {},
   "outputs": [
    {
     "data": {
      "text/html": [
       "<div>\n",
       "<style scoped>\n",
       "    .dataframe tbody tr th:only-of-type {\n",
       "        vertical-align: middle;\n",
       "    }\n",
       "\n",
       "    .dataframe tbody tr th {\n",
       "        vertical-align: top;\n",
       "    }\n",
       "\n",
       "    .dataframe thead th {\n",
       "        text-align: right;\n",
       "    }\n",
       "</style>\n",
       "<table border=\"1\" class=\"dataframe\">\n",
       "  <thead>\n",
       "    <tr style=\"text-align: right;\">\n",
       "      <th></th>\n",
       "      <th>Q8_1_6</th>\n",
       "    </tr>\n",
       "  </thead>\n",
       "  <tbody>\n",
       "    <tr>\n",
       "      <th>0.0</th>\n",
       "      <td>25337</td>\n",
       "    </tr>\n",
       "    <tr>\n",
       "      <th>6.0</th>\n",
       "      <td>3</td>\n",
       "    </tr>\n",
       "  </tbody>\n",
       "</table>\n",
       "</div>"
      ],
      "text/plain": [
       "     Q8_1_6\n",
       "0.0   25337\n",
       "6.0       3"
      ]
     },
     "execution_count": 124,
     "metadata": {},
     "output_type": "execute_result"
    }
   ],
   "source": [
    "Q8_1_6"
   ]
  },
  {
   "cell_type": "markdown",
   "id": "74ad3968",
   "metadata": {},
   "source": [
    "### 데이터 프레임 합치기"
   ]
  },
  {
   "cell_type": "code",
   "execution_count": 125,
   "id": "89931d3c",
   "metadata": {},
   "outputs": [],
   "source": [
    "total_df_1 = Q8_1_1.join(Q8_1_2, how='left')"
   ]
  },
  {
   "cell_type": "code",
   "execution_count": 126,
   "id": "b1ed4125",
   "metadata": {},
   "outputs": [],
   "source": [
    "total_df_1 = total_df_1.join(Q8_1_3, how='left')\n",
    "total_df_1 = total_df_1.join(Q8_1_4, how='left')\n",
    "total_df_1 = total_df_1.join(Q8_1_5, how='left')\n",
    "total_df_1 = total_df_1.join(Q8_1_6, how='left')"
   ]
  },
  {
   "cell_type": "code",
   "execution_count": 127,
   "id": "c22238a8",
   "metadata": {},
   "outputs": [],
   "source": [
    "media_sum = total_df_1.sum(axis=1)"
   ]
  },
  {
   "cell_type": "code",
   "execution_count": 128,
   "id": "fa4d2f3b",
   "metadata": {},
   "outputs": [],
   "source": [
    "media_sum = media_sum.drop(index=0)"
   ]
  },
  {
   "cell_type": "code",
   "execution_count": 135,
   "id": "192de7e5",
   "metadata": {},
   "outputs": [],
   "source": [
    "media_sum = media_sum.to_frame()"
   ]
  },
  {
   "cell_type": "code",
   "execution_count": 137,
   "id": "1dd32481",
   "metadata": {},
   "outputs": [
    {
     "data": {
      "text/html": [
       "<div>\n",
       "<style scoped>\n",
       "    .dataframe tbody tr th:only-of-type {\n",
       "        vertical-align: middle;\n",
       "    }\n",
       "\n",
       "    .dataframe tbody tr th {\n",
       "        vertical-align: top;\n",
       "    }\n",
       "\n",
       "    .dataframe thead th {\n",
       "        text-align: right;\n",
       "    }\n",
       "</style>\n",
       "<table border=\"1\" class=\"dataframe\">\n",
       "  <thead>\n",
       "    <tr style=\"text-align: right;\">\n",
       "      <th></th>\n",
       "      <th>0</th>\n",
       "    </tr>\n",
       "  </thead>\n",
       "  <tbody>\n",
       "    <tr>\n",
       "      <th>1.0</th>\n",
       "      <td>10824.0</td>\n",
       "    </tr>\n",
       "    <tr>\n",
       "      <th>2.0</th>\n",
       "      <td>18131.0</td>\n",
       "    </tr>\n",
       "    <tr>\n",
       "      <th>3.0</th>\n",
       "      <td>15297.0</td>\n",
       "    </tr>\n",
       "    <tr>\n",
       "      <th>4.0</th>\n",
       "      <td>6449.0</td>\n",
       "    </tr>\n",
       "    <tr>\n",
       "      <th>5.0</th>\n",
       "      <td>6976.0</td>\n",
       "    </tr>\n",
       "    <tr>\n",
       "      <th>6.0</th>\n",
       "      <td>12.0</td>\n",
       "    </tr>\n",
       "  </tbody>\n",
       "</table>\n",
       "</div>"
      ],
      "text/plain": [
       "           0\n",
       "1.0  10824.0\n",
       "2.0  18131.0\n",
       "3.0  15297.0\n",
       "4.0   6449.0\n",
       "5.0   6976.0\n",
       "6.0     12.0"
      ]
     },
     "execution_count": 137,
     "metadata": {},
     "output_type": "execute_result"
    }
   ],
   "source": [
    "media_sum"
   ]
  },
  {
   "cell_type": "markdown",
   "id": "9dbafa07",
   "metadata": {},
   "source": [
    "### 기타가 포함된 그래프"
   ]
  },
  {
   "cell_type": "code",
   "execution_count": 148,
   "id": "3e321265",
   "metadata": {},
   "outputs": [
    {
     "data": {
      "image/png": "[encoded data removed]",
      "text/plain": [
       "<Figure size 720x720 with 1 Axes>"
      ]
     },
     "metadata": {},
     "output_type": "display_data"
    }
   ],
   "source": [
    "# plt.pie(데이터, 라벨, autopct(전체대비비율)=소수점표시, startangle(부채꼴 시작 각도), shadow(그림자 효과 유무), explode(돌출))\n",
    "\n",
    "plt.figure(figsize=(10,10))\n",
    "plt.rc('font', size=12)\n",
    "\n",
    "ratio = media_sum[0].tolist()\n",
    "labels = ['실시간 TV', 'TV, 영화 등 다시보기', '1인 미디어 콘텐츠(유튜브, 아프리카tv 등)', '강의(학습, 교양 등)', '동영상 클립(예고편, 하이라이트 등 편집 영상)', '기타'] \n",
    "explode = [0.03, 0.03, 0.03, 0.03, 0.03, 0.03]\n",
    "colors = ['#4A9ABE', '#55B794', '#96CB55', '#85C4D5', '#99E5C7', '#D3EEA7'] \n",
    "wedgeprops={'width': 0.8, 'edgecolor': 'w', 'linewidth': 6}\n",
    "\n",
    "plt.pie(ratio, labels=labels, autopct='%.2f%%', startangle=-10, counterclock=False, explode=explode, colors=colors, wedgeprops=wedgeprops)\n",
    "plt.show()"
   ]
  },
  {
   "cell_type": "markdown",
   "id": "7ad4694e",
   "metadata": {},
   "source": [
    "### 기타가 포함되지 않은 그래프"
   ]
  },
  {
   "cell_type": "code",
   "execution_count": 152,
   "id": "ace1c0b1",
   "metadata": {},
   "outputs": [],
   "source": [
    "media_sum2 = media_sum.drop(index=6)"
   ]
  },
  {
   "cell_type": "code",
   "execution_count": 156,
   "id": "bf5d8fef",
   "metadata": {},
   "outputs": [
    {
     "data": {
      "text/html": [
       "<div>\n",
       "<style scoped>\n",
       "    .dataframe tbody tr th:only-of-type {\n",
       "        vertical-align: middle;\n",
       "    }\n",
       "\n",
       "    .dataframe tbody tr th {\n",
       "        vertical-align: top;\n",
       "    }\n",
       "\n",
       "    .dataframe thead th {\n",
       "        text-align: right;\n",
       "    }\n",
       "</style>\n",
       "<table border=\"1\" class=\"dataframe\">\n",
       "  <thead>\n",
       "    <tr style=\"text-align: right;\">\n",
       "      <th></th>\n",
       "      <th>0</th>\n",
       "    </tr>\n",
       "  </thead>\n",
       "  <tbody>\n",
       "    <tr>\n",
       "      <th>1.0</th>\n",
       "      <td>10824.0</td>\n",
       "    </tr>\n",
       "    <tr>\n",
       "      <th>2.0</th>\n",
       "      <td>18131.0</td>\n",
       "    </tr>\n",
       "    <tr>\n",
       "      <th>3.0</th>\n",
       "      <td>15297.0</td>\n",
       "    </tr>\n",
       "    <tr>\n",
       "      <th>4.0</th>\n",
       "      <td>6449.0</td>\n",
       "    </tr>\n",
       "    <tr>\n",
       "      <th>5.0</th>\n",
       "      <td>6976.0</td>\n",
       "    </tr>\n",
       "  </tbody>\n",
       "</table>\n",
       "</div>"
      ],
      "text/plain": [
       "           0\n",
       "1.0  10824.0\n",
       "2.0  18131.0\n",
       "3.0  15297.0\n",
       "4.0   6449.0\n",
       "5.0   6976.0"
      ]
     },
     "execution_count": 156,
     "metadata": {},
     "output_type": "execute_result"
    }
   ],
   "source": [
    "media_sum2"
   ]
  },
  {
   "cell_type": "code",
   "execution_count": 157,
   "id": "e310bdca",
   "metadata": {},
   "outputs": [
    {
     "data": {
      "image/png": "[encoded data removed]",
      "text/plain": [
       "<Figure size 720x720 with 1 Axes>"
      ]
     },
     "metadata": {},
     "output_type": "display_data"
    }
   ],
   "source": [
    "# plt.pie(데이터, 라벨, autopct(전체대비비율)=소수점표시, startangle(부채꼴 시작 각도), shadow(그림자 효과 유무), explode(돌출))\n",
    "\n",
    "plt.figure(figsize=(10,10))\n",
    "plt.rc('font', size=12)\n",
    "\n",
    "ratio = media_sum2[0].tolist()\n",
    "labels = ['실시간 TV', 'TV, 영화 등 다시보기', '1인 미디어 콘텐츠(유튜브, 아프리카tv 등)', '강의(학습, 교양 등)', '동영상 클립(예고편, 하이라이트 등 편집 영상)'] \n",
    "explode = [0.03, 0.03, 0.03, 0.03, 0.03]\n",
    "colors = ['#4A9ABE', '#55B794', '#96CB55', '#85C4D5', '#99E5C7'] \n",
    "wedgeprops={'width': 0.8, 'edgecolor': 'w', 'linewidth': 5}\n",
    "\n",
    "plt.pie(ratio, labels=labels, autopct='%.2f%%', startangle=-10, counterclock=False, explode=explode, colors=colors, wedgeprops=wedgeprops)\n",
    "plt.show()"
   ]
  },
  {
   "cell_type": "markdown",
   "id": "e524f5ee",
   "metadata": {},
   "source": [
    "- TV, 영화 등 다시보기 > 1인 미디어 콘텐츠 > 실시간 TV > 동영상 클립 > 강의 순서\n",
    "- TV, 영화 등 다시보기의 비율이 31.44%로 가장 높음\n",
    "- 스마트폰 이용시 강의를 목적으로 이용하는 비율이 가장 낮음"
   ]
  }
 ],
 "metadata": {
  "kernelspec": {
   "display_name": "Python 3",
   "language": "python",
   "name": "python3"
  },
  "language_info": {
   "codemirror_mode": {
    "name": "ipython",
    "version": 3
   },
   "file_extension": ".py",
   "mimetype": "text/x-python",
   "name": "python",
   "nbconvert_exporter": "python",
   "pygments_lexer": "ipython3",
   "version": "3.8.8"
  }
 },
 "nbformat": 4,
 "nbformat_minor": 5
}
